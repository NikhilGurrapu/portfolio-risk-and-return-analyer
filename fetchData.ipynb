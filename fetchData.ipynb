{
 "cells": [
  {
   "cell_type": "code",
   "execution_count": 372,
   "metadata": {},
   "outputs": [],
   "source": [
    "import yfinance as yf"
   ]
  },
  {
   "cell_type": "code",
   "execution_count": 373,
   "metadata": {},
   "outputs": [
    {
     "name": "stderr",
     "output_type": "stream",
     "text": [
      "[*********************100%***********************]  5 of 5 completed\n"
     ]
    },
    {
     "data": {
      "text/html": [
       "<div>\n",
       "<style scoped>\n",
       "    .dataframe tbody tr th:only-of-type {\n",
       "        vertical-align: middle;\n",
       "    }\n",
       "\n",
       "    .dataframe tbody tr th {\n",
       "        vertical-align: top;\n",
       "    }\n",
       "\n",
       "    .dataframe thead th {\n",
       "        text-align: right;\n",
       "    }\n",
       "</style>\n",
       "<table border=\"1\" class=\"dataframe\">\n",
       "  <thead>\n",
       "    <tr style=\"text-align: right;\">\n",
       "      <th>Ticker</th>\n",
       "      <th>ICICIBANK.NS</th>\n",
       "      <th>RELIANCE.NS</th>\n",
       "      <th>TATAMOTORS.NS</th>\n",
       "      <th>VBL.NS</th>\n",
       "      <th>^NSEI</th>\n",
       "    </tr>\n",
       "    <tr>\n",
       "      <th>Date</th>\n",
       "      <th></th>\n",
       "      <th></th>\n",
       "      <th></th>\n",
       "      <th></th>\n",
       "      <th></th>\n",
       "    </tr>\n",
       "  </thead>\n",
       "  <tbody>\n",
       "    <tr>\n",
       "      <th>2025-05-19</th>\n",
       "      <td>1449.000000</td>\n",
       "      <td>1440.800049</td>\n",
       "      <td>729.500000</td>\n",
       "      <td>494.799988</td>\n",
       "      <td>24945.449219</td>\n",
       "    </tr>\n",
       "    <tr>\n",
       "      <th>2025-05-20</th>\n",
       "      <td>1438.199951</td>\n",
       "      <td>1424.599976</td>\n",
       "      <td>718.900024</td>\n",
       "      <td>480.299988</td>\n",
       "      <td>24683.900391</td>\n",
       "    </tr>\n",
       "    <tr>\n",
       "      <th>2025-05-21</th>\n",
       "      <td>1444.699951</td>\n",
       "      <td>1429.199951</td>\n",
       "      <td>726.799988</td>\n",
       "      <td>479.149994</td>\n",
       "      <td>24813.449219</td>\n",
       "    </tr>\n",
       "    <tr>\n",
       "      <th>2025-05-22</th>\n",
       "      <td>1442.099976</td>\n",
       "      <td>1409.400024</td>\n",
       "      <td>717.450012</td>\n",
       "      <td>469.549988</td>\n",
       "      <td>24609.699219</td>\n",
       "    </tr>\n",
       "    <tr>\n",
       "      <th>2025-05-23</th>\n",
       "      <td>1449.800049</td>\n",
       "      <td>1426.800049</td>\n",
       "      <td>718.250000</td>\n",
       "      <td>488.750000</td>\n",
       "      <td>24853.150391</td>\n",
       "    </tr>\n",
       "  </tbody>\n",
       "</table>\n",
       "</div>"
      ],
      "text/plain": [
       "Ticker      ICICIBANK.NS  RELIANCE.NS  TATAMOTORS.NS      VBL.NS         ^NSEI\n",
       "Date                                                                          \n",
       "2025-05-19   1449.000000  1440.800049     729.500000  494.799988  24945.449219\n",
       "2025-05-20   1438.199951  1424.599976     718.900024  480.299988  24683.900391\n",
       "2025-05-21   1444.699951  1429.199951     726.799988  479.149994  24813.449219\n",
       "2025-05-22   1442.099976  1409.400024     717.450012  469.549988  24609.699219\n",
       "2025-05-23   1449.800049  1426.800049     718.250000  488.750000  24853.150391"
      ]
     },
     "execution_count": 373,
     "metadata": {},
     "output_type": "execute_result"
    }
   ],
   "source": [
    "tickers = ['RELIANCE.NS', 'TATAMOTORS.NS', 'VBL.NS', 'ICICIBANK.NS', '^NSEI']\n",
    "data = yf.download(tickers, period='7y', interval='1d', auto_adjust=True)['Close']\n",
    "data.tail()"
   ]
  },
  {
   "cell_type": "code",
   "execution_count": 374,
   "metadata": {},
   "outputs": [],
   "source": [
    "data.columns = [ticker.split('.')[0] for ticker in data.columns]"
   ]
  },
  {
   "cell_type": "code",
   "execution_count": 375,
   "metadata": {},
   "outputs": [],
   "source": [
    "data.to_csv(\"portfolio_data.csv\")"
   ]
  },
  {
   "cell_type": "code",
   "execution_count": 376,
   "metadata": {},
   "outputs": [
    {
     "data": {
      "text/html": [
       "<div>\n",
       "<style scoped>\n",
       "    .dataframe tbody tr th:only-of-type {\n",
       "        vertical-align: middle;\n",
       "    }\n",
       "\n",
       "    .dataframe tbody tr th {\n",
       "        vertical-align: top;\n",
       "    }\n",
       "\n",
       "    .dataframe thead th {\n",
       "        text-align: right;\n",
       "    }\n",
       "</style>\n",
       "<table border=\"1\" class=\"dataframe\">\n",
       "  <thead>\n",
       "    <tr style=\"text-align: right;\">\n",
       "      <th></th>\n",
       "      <th>ICICIBANK</th>\n",
       "      <th>RELIANCE</th>\n",
       "      <th>TATAMOTORS</th>\n",
       "      <th>VBL</th>\n",
       "      <th>^NSEI</th>\n",
       "    </tr>\n",
       "    <tr>\n",
       "      <th>Date</th>\n",
       "      <th></th>\n",
       "      <th></th>\n",
       "      <th></th>\n",
       "      <th></th>\n",
       "      <th></th>\n",
       "    </tr>\n",
       "  </thead>\n",
       "  <tbody>\n",
       "    <tr>\n",
       "      <th>2018-05-23</th>\n",
       "      <td>278.112061</td>\n",
       "      <td>410.328369</td>\n",
       "      <td>307.539520</td>\n",
       "      <td>39.441334</td>\n",
       "      <td>10430.349609</td>\n",
       "    </tr>\n",
       "    <tr>\n",
       "      <th>2018-05-24</th>\n",
       "      <td>283.492432</td>\n",
       "      <td>411.947632</td>\n",
       "      <td>286.867920</td>\n",
       "      <td>40.569027</td>\n",
       "      <td>10513.849609</td>\n",
       "    </tr>\n",
       "    <tr>\n",
       "      <th>2018-05-25</th>\n",
       "      <td>281.540222</td>\n",
       "      <td>414.174133</td>\n",
       "      <td>292.333954</td>\n",
       "      <td>40.810673</td>\n",
       "      <td>10605.150391</td>\n",
       "    </tr>\n",
       "    <tr>\n",
       "      <th>2018-05-28</th>\n",
       "      <td>284.968445</td>\n",
       "      <td>413.994202</td>\n",
       "      <td>294.470642</td>\n",
       "      <td>41.888363</td>\n",
       "      <td>10688.650391</td>\n",
       "    </tr>\n",
       "    <tr>\n",
       "      <th>2018-05-29</th>\n",
       "      <td>276.064667</td>\n",
       "      <td>412.667297</td>\n",
       "      <td>292.830872</td>\n",
       "      <td>42.202229</td>\n",
       "      <td>10633.299805</td>\n",
       "    </tr>\n",
       "  </tbody>\n",
       "</table>\n",
       "</div>"
      ],
      "text/plain": [
       "             ICICIBANK    RELIANCE  TATAMOTORS        VBL         ^NSEI\n",
       "Date                                                                   \n",
       "2018-05-23  278.112061  410.328369  307.539520  39.441334  10430.349609\n",
       "2018-05-24  283.492432  411.947632  286.867920  40.569027  10513.849609\n",
       "2018-05-25  281.540222  414.174133  292.333954  40.810673  10605.150391\n",
       "2018-05-28  284.968445  413.994202  294.470642  41.888363  10688.650391\n",
       "2018-05-29  276.064667  412.667297  292.830872  42.202229  10633.299805"
      ]
     },
     "execution_count": 376,
     "metadata": {},
     "output_type": "execute_result"
    }
   ],
   "source": [
    "import pandas as pd\n",
    "df= pd.read_csv('portfolio_data.csv', parse_dates=['Date'], index_col='Date')\n",
    "df.head()"
   ]
  },
  {
   "cell_type": "code",
   "execution_count": 377,
   "metadata": {},
   "outputs": [
    {
     "name": "stdout",
     "output_type": "stream",
     "text": [
      "            ICICIBANK  RELIANCE  TATAMOTORS       VBL     ^NSEI\n",
      "Date                                                           \n",
      "2018-05-24   0.019346  0.003946   -0.067216  0.028592  0.008005\n",
      "2018-05-25  -0.006886  0.005405    0.019054  0.005956  0.008684\n",
      "2018-05-28   0.012177 -0.000434    0.007309  0.026407  0.007874\n",
      "2018-05-29  -0.031245 -0.003205   -0.005569  0.007493 -0.005178\n",
      "2018-05-30  -0.017247 -0.001471   -0.019515 -0.011913 -0.001782\n"
     ]
    },
    {
     "name": "stderr",
     "output_type": "stream",
     "text": [
      "C:\\Users\\HP\\AppData\\Local\\Temp\\ipykernel_11060\\217338752.py:1: FutureWarning: The default fill_method='pad' in DataFrame.pct_change is deprecated and will be removed in a future version. Either fill in any non-leading NA values prior to calling pct_change or specify 'fill_method=None' to not fill NA values.\n",
      "  daily_returns = df.pct_change().dropna()\n"
     ]
    }
   ],
   "source": [
    "daily_returns = df.pct_change().dropna()\n",
    "print(daily_returns.head())"
   ]
  },
  {
   "cell_type": "code",
   "execution_count": 378,
   "metadata": {},
   "outputs": [],
   "source": [
    "weights = {'ICICIBANK':0.20,\n",
    "           'RELIANCE': 0.25,\n",
    "           'TATAMOTORS':0.20,\n",
    "           'VBL':0.25,\n",
    "           '^NSEI':0.10\n",
    "           }"
   ]
  },
  {
   "cell_type": "code",
   "execution_count": 379,
   "metadata": {},
   "outputs": [],
   "source": [
    "# define the weights in the same colunm order\n",
    "weight_list = [weights[ticker] for ticker in daily_returns.columns]"
   ]
  },
  {
   "cell_type": "code",
   "execution_count": 380,
   "metadata": {},
   "outputs": [],
   "source": [
    "#convert weights to numpy array\n",
    "import numpy as np\n",
    "\n",
    "weights_array = np.array(weight_list)"
   ]
  },
  {
   "cell_type": "code",
   "execution_count": 381,
   "metadata": {},
   "outputs": [],
   "source": [
    "# Multiply each row (daily return) with weights, then sum across columns\n",
    "portfolio_returns = daily_returns.dot(weights_array)"
   ]
  },
  {
   "cell_type": "code",
   "execution_count": 382,
   "metadata": {},
   "outputs": [
    {
     "name": "stdout",
     "output_type": "stream",
     "text": [
      "            Portfolio Return\n",
      "Date                        \n",
      "2018-05-24         -0.000639\n",
      "2018-05-25          0.006142\n",
      "2018-05-28          0.011178\n",
      "2018-05-29         -0.006809\n",
      "2018-05-30         -0.010877\n"
     ]
    }
   ],
   "source": [
    "# Optional: Convert to DataFrame\n",
    "portfolio_returns = pd.DataFrame(portfolio_returns, columns=['Portfolio Return'])\n",
    "\n",
    "# Display result\n",
    "print(portfolio_returns.head())"
   ]
  },
  {
   "cell_type": "code",
   "execution_count": 383,
   "metadata": {},
   "outputs": [],
   "source": [
    "my_investment = 15000"
   ]
  },
  {
   "cell_type": "code",
   "execution_count": 384,
   "metadata": {},
   "outputs": [
    {
     "name": "stdout",
     "output_type": "stream",
     "text": [
      "            Portfolio Return  Cumulative Return  Investment Value (₹)\n",
      "Date                                                                 \n",
      "2018-05-24         -0.000639           0.999361          14990.415356\n",
      "2018-05-25          0.006142           1.005499          15082.490575\n",
      "2018-05-28          0.011178           1.016739          15251.077504\n",
      "2018-05-29         -0.006809           1.009816          15147.239569\n",
      "2018-05-30         -0.010877           0.998833          14982.488246\n"
     ]
    }
   ],
   "source": [
    "# Continuing from previous step, use your portfolio_returns DataFrame\n",
    "portfolio_returns['Cumulative Return'] = (1 + portfolio_returns['Portfolio Return']).cumprod()\n",
    "\n",
    "# Optional: start value ₹100 instead of 1\n",
    "portfolio_returns['Investment Value (₹)'] = my_investment * portfolio_returns['Cumulative Return']\n",
    "\n",
    "# View results\n",
    "print(portfolio_returns.head())\n"
   ]
  },
  {
   "cell_type": "code",
   "execution_count": 385,
   "metadata": {},
   "outputs": [
    {
     "data": {
      "image/png": "[encoded data removed]",
      "text/plain": [
       "<Figure size 1000x500 with 1 Axes>"
      ]
     },
     "metadata": {},
     "output_type": "display_data"
    }
   ],
   "source": [
    "import matplotlib.pyplot as plt\n",
    "\n",
    "plt.figure(figsize=(10, 5))\n",
    "plt.plot(portfolio_returns['Investment Value (₹)'], label='Portfolio Value')\n",
    "plt.title('Portfolio Growth Over Time')\n",
    "plt.xlabel('Date')\n",
    "plt.ylabel('Portfolio Value (₹)')\n",
    "plt.grid(True)\n",
    "plt.legend()\n",
    "plt.tight_layout()\n",
    "plt.show()\n"
   ]
  },
  {
   "cell_type": "code",
   "execution_count": 386,
   "metadata": {},
   "outputs": [
    {
     "name": "stdout",
     "output_type": "stream",
     "text": [
      "Daily Volatility (Std Dev): 0.014211\n",
      "Annual Return: 28.09%\n",
      "Annual Volatility: 22.56%\n"
     ]
    }
   ],
   "source": [
    "# Daily standard deviation (risk) of portfolio returns\n",
    "daily_volatility = portfolio_returns['Portfolio Return'].std()\n",
    "\n",
    "# Annualized return\n",
    "annual_return = portfolio_returns['Portfolio Return'].mean() * 252\n",
    "\n",
    "# Annualized volatility\n",
    "annual_volatility = portfolio_returns['Portfolio Return'].std() * np.sqrt(252)\n",
    "\n",
    "print(f'Daily Volatility (Std Dev): {daily_volatility:.6f}')\n",
    "print(f'Annual Return: {annual_return:.2%}')\n",
    "print(f'Annual Volatility: {annual_volatility:.2%}')"
   ]
  },
  {
   "cell_type": "code",
   "execution_count": 387,
   "metadata": {},
   "outputs": [
    {
     "name": "stdout",
     "output_type": "stream",
     "text": [
      "Sharpe Ratio: 0.93\n"
     ]
    }
   ],
   "source": [
    "#The Sharpe Ratio = (Return - Risk-free rate) / Volatility\n",
    "#Assume India’s risk-free rate ~ 6% annually → 0.06\n",
    "\n",
    "risk_free_rate = 0.07\n",
    "sharpe_ratio = (annual_return - risk_free_rate) / annual_volatility\n",
    "\n",
    "print(f'Sharpe Ratio: {sharpe_ratio:.2f}')"
   ]
  },
  {
   "cell_type": "code",
   "execution_count": 388,
   "metadata": {},
   "outputs": [
    {
     "name": "stderr",
     "output_type": "stream",
     "text": [
      "[*********************100%***********************]  1 of 1 completed\n"
     ]
    },
    {
     "data": {
      "text/html": [
       "<div>\n",
       "<style scoped>\n",
       "    .dataframe tbody tr th:only-of-type {\n",
       "        vertical-align: middle;\n",
       "    }\n",
       "\n",
       "    .dataframe tbody tr th {\n",
       "        vertical-align: top;\n",
       "    }\n",
       "\n",
       "    .dataframe thead th {\n",
       "        text-align: right;\n",
       "    }\n",
       "</style>\n",
       "<table border=\"1\" class=\"dataframe\">\n",
       "  <thead>\n",
       "    <tr style=\"text-align: right;\">\n",
       "      <th>Ticker</th>\n",
       "      <th>^NSEI</th>\n",
       "    </tr>\n",
       "    <tr>\n",
       "      <th>Date</th>\n",
       "      <th></th>\n",
       "    </tr>\n",
       "  </thead>\n",
       "  <tbody>\n",
       "    <tr>\n",
       "      <th>2018-05-23</th>\n",
       "      <td>10430.349609</td>\n",
       "    </tr>\n",
       "    <tr>\n",
       "      <th>2018-05-24</th>\n",
       "      <td>10513.849609</td>\n",
       "    </tr>\n",
       "    <tr>\n",
       "      <th>2018-05-25</th>\n",
       "      <td>10605.150391</td>\n",
       "    </tr>\n",
       "    <tr>\n",
       "      <th>2018-05-28</th>\n",
       "      <td>10688.650391</td>\n",
       "    </tr>\n",
       "    <tr>\n",
       "      <th>2018-05-29</th>\n",
       "      <td>10633.299805</td>\n",
       "    </tr>\n",
       "  </tbody>\n",
       "</table>\n",
       "</div>"
      ],
      "text/plain": [
       "Ticker             ^NSEI\n",
       "Date                    \n",
       "2018-05-23  10430.349609\n",
       "2018-05-24  10513.849609\n",
       "2018-05-25  10605.150391\n",
       "2018-05-28  10688.650391\n",
       "2018-05-29  10633.299805"
      ]
     },
     "execution_count": 388,
     "metadata": {},
     "output_type": "execute_result"
    }
   ],
   "source": [
    "df_nf = yf.download('^NSEI',period='7y', interval='1d', auto_adjust=True)['Close']\n",
    "df_nf = pd.DataFrame(df_nf)\n",
    "df_nf.head()"
   ]
  },
  {
   "cell_type": "code",
   "execution_count": 389,
   "metadata": {},
   "outputs": [
    {
     "name": "stdout",
     "output_type": "stream",
     "text": [
      "Ticker         ^NSEI\n",
      "Date                \n",
      "2018-05-24  0.008005\n",
      "2018-05-25  0.008684\n",
      "2018-05-28  0.007874\n",
      "2018-05-29 -0.005178\n",
      "2018-05-30 -0.001782\n"
     ]
    }
   ],
   "source": [
    "nf_returns = df_nf.pct_change().dropna()\n",
    "nf_cummulative = (1 + nf_returns).cumprod()\n",
    "nf_cummulative = my_investment * nf_cummulative\n",
    "\n",
    "print(nf_returns.head())"
   ]
  },
  {
   "cell_type": "code",
   "execution_count": 390,
   "metadata": {},
   "outputs": [
    {
     "name": "stdout",
     "output_type": "stream",
     "text": [
      "Nifty Daily Volatility (Std Dev): 0.011258\n",
      "Nifty Annual Return: 14.31%\n",
      "Nifty Annual Volatility: 17.87%\n"
     ]
    }
   ],
   "source": [
    "# Daily standard deviation (risk) of Nifty returns\n",
    "nf_daily_volatility = nf_returns['^NSEI'].std()\n",
    "\n",
    "# Annualized return\n",
    "nf_annual_return = nf_returns['^NSEI'].mean() * 252\n",
    "\n",
    "# Annualized volatility\n",
    "nf_annual_volatility = nf_returns['^NSEI'].std() * np.sqrt(252)\n",
    "\n",
    "print(f'Nifty Daily Volatility (Std Dev): {nf_daily_volatility:.6f}')\n",
    "print(f'Nifty Annual Return: {nf_annual_return:.2%}')\n",
    "print(f'Nifty Annual Volatility: {nf_annual_volatility:.2%}')"
   ]
  },
  {
   "cell_type": "code",
   "execution_count": 391,
   "metadata": {},
   "outputs": [
    {
     "name": "stdout",
     "output_type": "stream",
     "text": [
      "Nifty Sharpe Ratio: 0.41\n"
     ]
    }
   ],
   "source": [
    "nf_sharpe_ratio = (nf_annual_return - risk_free_rate) / nf_annual_volatility\n",
    "\n",
    "print(f'Nifty Sharpe Ratio: {nf_sharpe_ratio:.2f}')"
   ]
  },
  {
   "cell_type": "code",
   "execution_count": 392,
   "metadata": {},
   "outputs": [],
   "source": [
    "# Combine with Your Portfolio\n",
    "# Use your existing cumulative investment value\n",
    "portfolio_cummulative = portfolio_returns['Investment Value (₹)']\n",
    "\n",
    "comparison = pd.concat([portfolio_cummulative, nf_cummulative], axis=1)\n",
    "comparison.columns = ['Your Portfolio', 'Nifty 50']"
   ]
  },
  {
   "cell_type": "code",
   "execution_count": 393,
   "metadata": {},
   "outputs": [
    {
     "data": {
      "image/png": "[encoded data removed]",
      "text/plain": [
       "<Figure size 1200x600 with 1 Axes>"
      ]
     },
     "metadata": {},
     "output_type": "display_data"
    }
   ],
   "source": [
    "plt.figure(figsize=(12, 6))\n",
    "plt.plot(comparison['Your Portfolio'], label='Your Portfolio')\n",
    "plt.plot(comparison['Nifty 50'], label='NIFTY 50', linestyle='--')\n",
    "plt.title('Portfolio vs NIFTY 50')\n",
    "plt.xlabel('Date')\n",
    "plt.ylabel('Investment Value (₹)')\n",
    "plt.legend()\n",
    "plt.grid(True)\n",
    "plt.tight_layout()\n",
    "plt.show()"
   ]
  },
  {
   "cell_type": "markdown",
   "metadata": {},
   "source": [
    "### Find Outperformed"
   ]
  },
  {
   "cell_type": "code",
   "execution_count": 394,
   "metadata": {},
   "outputs": [
    {
     "name": "stdout",
     "output_type": "stream",
     "text": [
      "Final Portfolio Value: ₹86237.23\n",
      "Final Nifty 50 Value: ₹35741.59\n"
     ]
    }
   ],
   "source": [
    "final_portfolio_value = comparison['Your Portfolio'].iloc[-1]\n",
    "final_nifty_value = comparison['Nifty 50'].iloc[-1]\n",
    "\n",
    "print(f'Final Portfolio Value: ₹{final_portfolio_value:.2f}')\n",
    "print(f'Final Nifty 50 Value: ₹{final_nifty_value:.2f}')"
   ]
  },
  {
   "cell_type": "code",
   "execution_count": 395,
   "metadata": {},
   "outputs": [
    {
     "name": "stdout",
     "output_type": "stream",
     "text": [
      "Portfolio Outperformed by: 141.28%\n"
     ]
    }
   ],
   "source": [
    "outperformance_pct = ((final_portfolio_value - final_nifty_value) / final_nifty_value) * 100\n",
    "\n",
    "print(f\"Portfolio Outperformed by: {outperformance_pct:.2f}%\")\n"
   ]
  },
  {
   "cell_type": "markdown",
   "metadata": {},
   "source": [
    "##### Annualized Return / Volatility / Sharpe Ratio"
   ]
  },
  {
   "cell_type": "code",
   "execution_count": 396,
   "metadata": {},
   "outputs": [
    {
     "name": "stdout",
     "output_type": "stream",
     "text": [
      "Portfolio Annual Return: 28.09%\n",
      "Nifty Annual Return: 14.31%\n",
      "--------------------------------\n",
      "Portfolio Annual Volatility: 22.56%\n",
      "Nifty Annual Volatility: 17.87%\n",
      "--------------------------------\n",
      "Portfolio Sharpe Ratio: 0.93\n",
      "Nifty Sharpe Ratio: 0.41\n"
     ]
    }
   ],
   "source": [
    "print(f'Portfolio Annual Return: {annual_return:.2%}')\n",
    "print(f'Nifty Annual Return: {nf_annual_return:.2%}')\n",
    "print(\"--------------------------------\")\n",
    "print(f'Portfolio Annual Volatility: {annual_volatility:.2%}')\n",
    "print(f'Nifty Annual Volatility: {nf_annual_volatility:.2%}')\n",
    "print(\"--------------------------------\")\n",
    "print(f'Portfolio Sharpe Ratio: {sharpe_ratio:.2f}')\n",
    "print(f'Nifty Sharpe Ratio: {nf_sharpe_ratio:.2f}')"
   ]
  },
  {
   "cell_type": "markdown",
   "metadata": {},
   "source": [
    "##### calculate Max Drawdown"
   ]
  },
  {
   "cell_type": "code",
   "execution_count": 397,
   "metadata": {},
   "outputs": [
    {
     "name": "stdout",
     "output_type": "stream",
     "text": [
      "Portfolio Max Drawdown: -44.86%\n",
      "Nifty Max Drawdown: -38.44%\n"
     ]
    },
    {
     "name": "stderr",
     "output_type": "stream",
     "text": [
      "C:\\Users\\HP\\AppData\\Local\\Temp\\ipykernel_11060\\2680009427.py:11: FutureWarning: Calling float on a single element Series is deprecated and will raise a TypeError in the future. Use float(ser.iloc[0]) instead\n",
      "  max_dd_nifty = float(nifty_drawdown.min())\n"
     ]
    }
   ],
   "source": [
    "# Calculate running maximum (peak value up to each date)\n",
    "portfolio_running_max = portfolio_cummulative.cummax()\n",
    "nifty_running_max = nf_cummulative.cummax()\n",
    "\n",
    "# Calculate drawdown = (current value - peak value) / peak value\n",
    "portfolio_drawdown = (portfolio_cummulative - portfolio_running_max) / portfolio_running_max\n",
    "nifty_drawdown = (nf_cummulative - nifty_running_max) / nifty_running_max\n",
    "\n",
    "# Find max drawdown (worst loss)\n",
    "max_dd_portfolio = float(portfolio_drawdown.min())\n",
    "max_dd_nifty = float(nifty_drawdown.min())\n",
    "\n",
    "print(f\"Portfolio Max Drawdown: {max_dd_portfolio:.2%}\")\n",
    "print(f\"Nifty Max Drawdown: {max_dd_nifty:.2%}\")\n"
   ]
  }
 ],
 "metadata": {
  "kernelspec": {
   "display_name": "Python 3",
   "language": "python",
   "name": "python3"
  },
  "language_info": {
   "codemirror_mode": {
    "name": "ipython",
    "version": 3
   },
   "file_extension": ".py",
   "mimetype": "text/x-python",
   "name": "python",
   "nbconvert_exporter": "python",
   "pygments_lexer": "ipython3",
   "version": "3.13.3"
  }
 },
 "nbformat": 4,
 "nbformat_minor": 2
}
